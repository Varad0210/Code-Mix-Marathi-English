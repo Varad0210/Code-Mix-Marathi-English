{
 "cells": [
  {
   "attachments": {},
   "cell_type": "markdown",
   "metadata": {},
   "source": [
    "# Imports"
   ]
  },
  {
   "cell_type": "code",
   "execution_count": 1,
   "metadata": {},
   "outputs": [],
   "source": [
    "import pandas as pd\n",
    "import numpy as np\n",
    "from sklearn.model_selection import train_test_split\n",
    "from sklearn import svm\n",
    "from sklearn.metrics import confusion_matrix,accuracy_score,f1_score\n",
    "from sklearn.feature_extraction.text import TfidfVectorizer\n",
    "from sklearn.naive_bayes import MultinomialNB"
   ]
  },
  {
   "attachments": {},
   "cell_type": "markdown",
   "metadata": {},
   "source": [
    "# Dataset"
   ]
  },
  {
   "cell_type": "code",
   "execution_count": 2,
   "metadata": {},
   "outputs": [
    {
     "data": {
      "text/html": [
       "<div>\n",
       "<style scoped>\n",
       "    .dataframe tbody tr th:only-of-type {\n",
       "        vertical-align: middle;\n",
       "    }\n",
       "\n",
       "    .dataframe tbody tr th {\n",
       "        vertical-align: top;\n",
       "    }\n",
       "\n",
       "    .dataframe thead th {\n",
       "        text-align: right;\n",
       "    }\n",
       "</style>\n",
       "<table border=\"1\" class=\"dataframe\">\n",
       "  <thead>\n",
       "    <tr style=\"text-align: right;\">\n",
       "      <th></th>\n",
       "      <th>index</th>\n",
       "      <th>text</th>\n",
       "      <th>Preprocesed</th>\n",
       "      <th>LangId</th>\n",
       "      <th>POS</th>\n",
       "      <th>sentiment</th>\n",
       "    </tr>\n",
       "  </thead>\n",
       "  <tbody>\n",
       "    <tr>\n",
       "      <th>0</th>\n",
       "      <td>1</td>\n",
       "      <td>Don't know much about java.... Kadhi use nhi k...</td>\n",
       "      <td>Dont know much about java Kadhi use nhi kela j...</td>\n",
       "      <td>Dont\\EN know\\EN much\\EN about\\EN java\\BO Kadhi...</td>\n",
       "      <td>Dont\\ADV know\\VB much\\UN about\\ADV java\\NOU Ka...</td>\n",
       "      <td>1</td>\n",
       "    </tr>\n",
       "    <tr>\n",
       "      <th>1</th>\n",
       "      <td>2</td>\n",
       "      <td>Theory paper madhe ek answer dila ki atleast 4...</td>\n",
       "      <td>Theory paper madhe ek answer dila ki atleast 4...</td>\n",
       "      <td>Theory\\EN paper\\EN madhe\\MR ek\\MR answer\\EN di...</td>\n",
       "      <td>Theory\\NOU paper\\NOU madhe\\UN ek\\NOU answer\\NO...</td>\n",
       "      <td>2</td>\n",
       "    </tr>\n",
       "    <tr>\n",
       "      <th>2</th>\n",
       "      <td>3</td>\n",
       "      <td>khup assignment n exam load rahato Engineering...</td>\n",
       "      <td>khup assignment n exam load rahato Engineering...</td>\n",
       "      <td>khup\\MR assignment\\EN n\\MR exam\\EN load\\EN rah...</td>\n",
       "      <td>khup\\ADJ assignment\\NOU n\\UN exam\\NOU load\\NOU...</td>\n",
       "      <td>1</td>\n",
       "    </tr>\n",
       "    <tr>\n",
       "      <th>3</th>\n",
       "      <td>4</td>\n",
       "      <td>rutwik sathi online gheu shakto or tyala nntr ...</td>\n",
       "      <td>rutwik sathi online gheu shakto or tyala nntr ...</td>\n",
       "      <td>rutwik\\BO sathi\\MR online\\EN gheu\\MR shakto\\MR...</td>\n",
       "      <td>rutwik\\NOU sathi\\UN online\\ADV gheu\\VB shakto\\...</td>\n",
       "      <td>2</td>\n",
       "    </tr>\n",
       "    <tr>\n",
       "      <th>4</th>\n",
       "      <td>5</td>\n",
       "      <td>offline chalel mi roj yeto college madhe so</td>\n",
       "      <td>offline chalel mi roj yeto college madhe so</td>\n",
       "      <td>offline\\EN chalel\\MR mi\\MR roj\\MR yeto\\MR coll...</td>\n",
       "      <td>offline\\ADV chalel\\UN mi\\UN roj\\ADV yeto\\VB co...</td>\n",
       "      <td>2</td>\n",
       "    </tr>\n",
       "  </tbody>\n",
       "</table>\n",
       "</div>"
      ],
      "text/plain": [
       "   index                                               text  \\\n",
       "0      1  Don't know much about java.... Kadhi use nhi k...   \n",
       "1      2  Theory paper madhe ek answer dila ki atleast 4...   \n",
       "2      3  khup assignment n exam load rahato Engineering...   \n",
       "3      4  rutwik sathi online gheu shakto or tyala nntr ...   \n",
       "4      5        offline chalel mi roj yeto college madhe so   \n",
       "\n",
       "                                         Preprocesed  \\\n",
       "0  Dont know much about java Kadhi use nhi kela j...   \n",
       "1  Theory paper madhe ek answer dila ki atleast 4...   \n",
       "2  khup assignment n exam load rahato Engineering...   \n",
       "3  rutwik sathi online gheu shakto or tyala nntr ...   \n",
       "4        offline chalel mi roj yeto college madhe so   \n",
       "\n",
       "                                              LangId  \\\n",
       "0  Dont\\EN know\\EN much\\EN about\\EN java\\BO Kadhi...   \n",
       "1  Theory\\EN paper\\EN madhe\\MR ek\\MR answer\\EN di...   \n",
       "2  khup\\MR assignment\\EN n\\MR exam\\EN load\\EN rah...   \n",
       "3  rutwik\\BO sathi\\MR online\\EN gheu\\MR shakto\\MR...   \n",
       "4  offline\\EN chalel\\MR mi\\MR roj\\MR yeto\\MR coll...   \n",
       "\n",
       "                                                 POS  sentiment  \n",
       "0  Dont\\ADV know\\VB much\\UN about\\ADV java\\NOU Ka...          1  \n",
       "1  Theory\\NOU paper\\NOU madhe\\UN ek\\NOU answer\\NO...          2  \n",
       "2  khup\\ADJ assignment\\NOU n\\UN exam\\NOU load\\NOU...          1  \n",
       "3  rutwik\\NOU sathi\\UN online\\ADV gheu\\VB shakto\\...          2  \n",
       "4  offline\\ADV chalel\\UN mi\\UN roj\\ADV yeto\\VB co...          2  "
      ]
     },
     "execution_count": 2,
     "metadata": {},
     "output_type": "execute_result"
    }
   ],
   "source": [
    "data = pd.read_json(\"Dataset.json\")\n",
    "data['sentiment'] = data['sentiment'].replace([-1,0,1],[0,1,2])\n",
    "data.head()"
   ]
  },
  {
   "cell_type": "code",
   "execution_count": 3,
   "metadata": {},
   "outputs": [
    {
     "data": {
      "text/plain": [
       "2    392\n",
       "1    320\n",
       "0    297\n",
       "Name: sentiment, dtype: int64"
      ]
     },
     "execution_count": 3,
     "metadata": {},
     "output_type": "execute_result"
    }
   ],
   "source": [
    "data[\"sentiment\"].value_counts()"
   ]
  },
  {
   "cell_type": "code",
   "execution_count": 4,
   "metadata": {},
   "outputs": [
    {
     "data": {
      "text/plain": [
       "(1009, 6)"
      ]
     },
     "execution_count": 4,
     "metadata": {},
     "output_type": "execute_result"
    }
   ],
   "source": [
    "data.shape"
   ]
  },
  {
   "cell_type": "code",
   "execution_count": 5,
   "metadata": {},
   "outputs": [
    {
     "data": {
      "text/plain": [
       "index          0\n",
       "text           0\n",
       "Preprocesed    0\n",
       "LangId         0\n",
       "POS            0\n",
       "sentiment      0\n",
       "dtype: int64"
      ]
     },
     "execution_count": 5,
     "metadata": {},
     "output_type": "execute_result"
    }
   ],
   "source": [
    "data.isnull().sum()"
   ]
  },
  {
   "cell_type": "code",
   "execution_count": 6,
   "metadata": {},
   "outputs": [
    {
     "data": {
      "text/plain": [
       "index           int64\n",
       "text           object\n",
       "Preprocesed    object\n",
       "LangId         object\n",
       "POS            object\n",
       "sentiment       int64\n",
       "dtype: object"
      ]
     },
     "execution_count": 6,
     "metadata": {},
     "output_type": "execute_result"
    }
   ],
   "source": [
    "data.dtypes"
   ]
  },
  {
   "attachments": {},
   "cell_type": "markdown",
   "metadata": {},
   "source": [
    "# Metrics"
   ]
  },
  {
   "cell_type": "code",
   "execution_count": 7,
   "metadata": {},
   "outputs": [],
   "source": [
    "# Positive and other\n",
    "def positive(Y):\n",
    "    A = np.copy(Y)\n",
    "    A[A == 0] = 1\n",
    "    return A\n",
    "\n",
    "# Negative and other\n",
    "def negative(Y):\n",
    "    A = np.copy(Y)\n",
    "    A[A == 2] = 1\n",
    "    return A\n",
    "\n",
    "# Neutral and other\n",
    "def neutral(Y):\n",
    "    A = np.copy(Y)\n",
    "    A[A == 2] = 0\n",
    "    return A\n",
    "\n",
    "# Convert to binary labels for individual score calculation\n",
    "def metrics(Y_test,Y_pred):\n",
    "\n",
    "    # Positive accuracy and f1 score\n",
    "    pos_t = positive(Y_test)\n",
    "    pos_p = positive(Y_pred)\n",
    "    pos_a = accuracy_score(pos_t,pos_p)\n",
    "    pos_f = f1_score(pos_t,pos_p)\n",
    "\n",
    "    # Negative accuracy and f1 score\n",
    "    neg_t = negative(Y_test)\n",
    "    neg_p = negative(Y_pred)\n",
    "    neg_a = accuracy_score(neg_t,neg_p)\n",
    "    neg_f = f1_score(neg_t,neg_p)\n",
    "\n",
    "    # Neutral accuracy and f1 score\n",
    "    neu_t = neutral(Y_test)\n",
    "    neu_p = neutral(Y_pred)\n",
    "    neu_a = accuracy_score(neu_t,neu_p)\n",
    "    neu_f = f1_score(neu_t,neu_p)\n",
    "\n",
    "    # Average accuracy and f1 score\n",
    "    a_t = (pos_a+neg_a+neu_a)/3\n",
    "    f_t = (pos_f+neg_f+neu_f)/3\n",
    "\n",
    "    print(\"metrics\",\"total\",\"pos\",\"neg\",\"neu\")\n",
    "    print(\"accuracy_score\",a_t,pos_a,neg_a,neu_a)\n",
    "    print(\"f1_score\",f_t,pos_f,neg_f,neu_f)"
   ]
  },
  {
   "attachments": {},
   "cell_type": "markdown",
   "metadata": {},
   "source": [
    "# Split"
   ]
  },
  {
   "cell_type": "code",
   "execution_count": 8,
   "metadata": {},
   "outputs": [],
   "source": [
    "X = data['text']\n",
    "Y = data['sentiment']\n",
    "X_train, X_test, Y_train, Y_test = train_test_split(X, Y, test_size=0.3, random_state=0, stratify=data['sentiment'])"
   ]
  },
  {
   "attachments": {},
   "cell_type": "markdown",
   "metadata": {},
   "source": [
    "# SVM"
   ]
  },
  {
   "cell_type": "code",
   "execution_count": 9,
   "metadata": {},
   "outputs": [],
   "source": [
    "vectorizer = TfidfVectorizer(min_df = 5,max_df = 0.8,sublinear_tf = True,use_idf = True)\n",
    "train_vectors = vectorizer.fit_transform(X_train)\n",
    "test_vectors = vectorizer.transform(X_test)\n",
    "SVMm = svm.SVC(kernel='linear')\n",
    "SVMm.fit(train_vectors, Y_train)\n",
    "Y_pred = SVMm.predict(test_vectors)"
   ]
  },
  {
   "cell_type": "code",
   "execution_count": 10,
   "metadata": {},
   "outputs": [
    {
     "name": "stdout",
     "output_type": "stream",
     "text": [
      "[[40 33 16]\n",
      " [20 39 37]\n",
      " [15 26 77]]\n",
      "metrics total pos neg neu\n",
      "accuracy_score 0.6765676567656765 0.6897689768976898 0.7227722772277227 0.6171617161716172\n",
      "f1_score 0.6498155914663634 0.7374301675977654 0.8099547511312217 0.40206185567010305\n"
     ]
    }
   ],
   "source": [
    "cfSVM = confusion_matrix(Y_test, Y_pred)\n",
    "print(cfSVM)\n",
    "metrics(Y_test,Y_pred)"
   ]
  },
  {
   "attachments": {},
   "cell_type": "markdown",
   "metadata": {},
   "source": [
    "# Naive Bayes"
   ]
  },
  {
   "cell_type": "code",
   "execution_count": 11,
   "metadata": {},
   "outputs": [],
   "source": [
    "vectorizer = TfidfVectorizer(min_df = 5,max_df = 0.8,sublinear_tf = True,use_idf = True)\n",
    "NBx = vectorizer.fit_transform(X_train).toarray()\n",
    "NBx_test = vectorizer.transform(X_test).toarray()\n",
    "NB = MultinomialNB()\n",
    "NB.fit(NBx, Y_train)\n",
    "Y_pred = NB.predict(NBx_test)"
   ]
  },
  {
   "cell_type": "code",
   "execution_count": 12,
   "metadata": {},
   "outputs": [
    {
     "name": "stdout",
     "output_type": "stream",
     "text": [
      "[[33 31 25]\n",
      " [20 36 40]\n",
      " [20 23 75]]\n",
      "metrics total pos neg neu\n",
      "accuracy_score 0.6501650165016502 0.6435643564356436 0.6831683168316832 0.6237623762376238\n",
      "f1_score 0.6201785767970418 0.6896551724137931 0.7837837837837838 0.38709677419354843\n"
     ]
    }
   ],
   "source": [
    "cfNB = confusion_matrix(Y_test, Y_pred)\n",
    "print(cfNB)\n",
    "metrics(Y_test,Y_pred)"
   ]
  }
 ],
 "metadata": {
  "kernelspec": {
   "display_name": "Python 3.9.1 64-bit",
   "language": "python",
   "name": "python3"
  },
  "language_info": {
   "codemirror_mode": {
    "name": "ipython",
    "version": 3
   },
   "file_extension": ".py",
   "mimetype": "text/x-python",
   "name": "python",
   "nbconvert_exporter": "python",
   "pygments_lexer": "ipython3",
   "version": "3.9.1 (tags/v3.9.1:1e5d33e, Dec  7 2020, 17:08:21) [MSC v.1927 64 bit (AMD64)]"
  },
  "orig_nbformat": 4,
  "vscode": {
   "interpreter": {
    "hash": "5f6567fc7ac8dd9f23458a39475b5587cbe7b4e0ae570a64de5bb375b2e98dee"
   }
  }
 },
 "nbformat": 4,
 "nbformat_minor": 2
}
